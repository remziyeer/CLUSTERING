{
  "nbformat": 4,
  "nbformat_minor": 0,
  "metadata": {
    "colab": {
      "provenance": [],
      "authorship_tag": "ABX9TyOmODgaAYfFH6+T+GFGxn+/",
      "include_colab_link": true
    },
    "kernelspec": {
      "name": "python3",
      "display_name": "Python 3"
    },
    "language_info": {
      "name": "python"
    }
  },
  "cells": [
    {
      "cell_type": "markdown",
      "metadata": {
        "id": "view-in-github",
        "colab_type": "text"
      },
      "source": [
        "<a href=\"https://colab.research.google.com/github/remziyeer/CLUSTERING/blob/main/ml_OpticsK%C3%BCmeleme.ipynb\" target=\"_parent\"><img src=\"https://colab.research.google.com/assets/colab-badge.svg\" alt=\"Open In Colab\"/></a>"
      ]
    },
    {
      "cell_type": "code",
      "source": [
        "import numpy as np\n",
        "import pandas as pd\n",
        "import matplotlib.pyplot as plt\n",
        "from matplotlib import gridspec\n",
        "from sklearn.cluster import OPTICS, cluster_optics_dbscan\n",
        "from sklearn.preprocessing import normalize, StandardScaler\n",
        "from sklearn import datasets\n"
      ],
      "metadata": {
        "id": "yInRTRk5XXXj"
      },
      "execution_count": 1,
      "outputs": []
    },
    {
      "cell_type": "markdown",
      "source": [
        "#Verileri Yükleme\n"
      ],
      "metadata": {
        "id": "yG2VjaULPI4-"
      }
    },
    {
      "cell_type": "code",
      "source": [
        "X=pd.read_csv(\"Iris.csv\")\n",
        "#Alakasız sütunları silmek\n",
        "drop_features = ['Id', 'Species']\n",
        "X = X.drop(drop_features, axis = 1)\n",
        "# Varsa eksik değerlerin işlenmesi\n",
        "X.fillna(method ='ffill', inplace = True)\n",
        "X.head()\n"
      ],
      "metadata": {
        "colab": {
          "base_uri": "https://localhost:8080/",
          "height": 206
        },
        "id": "yX8QlJtYfT0k",
        "outputId": "f95ef555-16cd-4d77-f70a-5b8dddd5d80a"
      },
      "execution_count": 2,
      "outputs": [
        {
          "output_type": "execute_result",
          "data": {
            "text/plain": [
              "   SepalLengthCm  SepalWidthCm  PetalLengthCm  PetalWidthCm\n",
              "0            5.1           3.5            1.4           0.2\n",
              "1            4.9           3.0            1.4           0.2\n",
              "2            4.7           3.2            1.3           0.2\n",
              "3            4.6           3.1            1.5           0.2\n",
              "4            5.0           3.6            1.4           0.2"
            ],
            "text/html": [
              "\n",
              "  <div id=\"df-a542574d-4825-4e1f-969c-93b873e3a997\">\n",
              "    <div class=\"colab-df-container\">\n",
              "      <div>\n",
              "<style scoped>\n",
              "    .dataframe tbody tr th:only-of-type {\n",
              "        vertical-align: middle;\n",
              "    }\n",
              "\n",
              "    .dataframe tbody tr th {\n",
              "        vertical-align: top;\n",
              "    }\n",
              "\n",
              "    .dataframe thead th {\n",
              "        text-align: right;\n",
              "    }\n",
              "</style>\n",
              "<table border=\"1\" class=\"dataframe\">\n",
              "  <thead>\n",
              "    <tr style=\"text-align: right;\">\n",
              "      <th></th>\n",
              "      <th>SepalLengthCm</th>\n",
              "      <th>SepalWidthCm</th>\n",
              "      <th>PetalLengthCm</th>\n",
              "      <th>PetalWidthCm</th>\n",
              "    </tr>\n",
              "  </thead>\n",
              "  <tbody>\n",
              "    <tr>\n",
              "      <th>0</th>\n",
              "      <td>5.1</td>\n",
              "      <td>3.5</td>\n",
              "      <td>1.4</td>\n",
              "      <td>0.2</td>\n",
              "    </tr>\n",
              "    <tr>\n",
              "      <th>1</th>\n",
              "      <td>4.9</td>\n",
              "      <td>3.0</td>\n",
              "      <td>1.4</td>\n",
              "      <td>0.2</td>\n",
              "    </tr>\n",
              "    <tr>\n",
              "      <th>2</th>\n",
              "      <td>4.7</td>\n",
              "      <td>3.2</td>\n",
              "      <td>1.3</td>\n",
              "      <td>0.2</td>\n",
              "    </tr>\n",
              "    <tr>\n",
              "      <th>3</th>\n",
              "      <td>4.6</td>\n",
              "      <td>3.1</td>\n",
              "      <td>1.5</td>\n",
              "      <td>0.2</td>\n",
              "    </tr>\n",
              "    <tr>\n",
              "      <th>4</th>\n",
              "      <td>5.0</td>\n",
              "      <td>3.6</td>\n",
              "      <td>1.4</td>\n",
              "      <td>0.2</td>\n",
              "    </tr>\n",
              "  </tbody>\n",
              "</table>\n",
              "</div>\n",
              "      <button class=\"colab-df-convert\" onclick=\"convertToInteractive('df-a542574d-4825-4e1f-969c-93b873e3a997')\"\n",
              "              title=\"Convert this dataframe to an interactive table.\"\n",
              "              style=\"display:none;\">\n",
              "        \n",
              "  <svg xmlns=\"http://www.w3.org/2000/svg\" height=\"24px\"viewBox=\"0 0 24 24\"\n",
              "       width=\"24px\">\n",
              "    <path d=\"M0 0h24v24H0V0z\" fill=\"none\"/>\n",
              "    <path d=\"M18.56 5.44l.94 2.06.94-2.06 2.06-.94-2.06-.94-.94-2.06-.94 2.06-2.06.94zm-11 1L8.5 8.5l.94-2.06 2.06-.94-2.06-.94L8.5 2.5l-.94 2.06-2.06.94zm10 10l.94 2.06.94-2.06 2.06-.94-2.06-.94-.94-2.06-.94 2.06-2.06.94z\"/><path d=\"M17.41 7.96l-1.37-1.37c-.4-.4-.92-.59-1.43-.59-.52 0-1.04.2-1.43.59L10.3 9.45l-7.72 7.72c-.78.78-.78 2.05 0 2.83L4 21.41c.39.39.9.59 1.41.59.51 0 1.02-.2 1.41-.59l7.78-7.78 2.81-2.81c.8-.78.8-2.07 0-2.86zM5.41 20L4 18.59l7.72-7.72 1.47 1.35L5.41 20z\"/>\n",
              "  </svg>\n",
              "      </button>\n",
              "      \n",
              "  <style>\n",
              "    .colab-df-container {\n",
              "      display:flex;\n",
              "      flex-wrap:wrap;\n",
              "      gap: 12px;\n",
              "    }\n",
              "\n",
              "    .colab-df-convert {\n",
              "      background-color: #E8F0FE;\n",
              "      border: none;\n",
              "      border-radius: 50%;\n",
              "      cursor: pointer;\n",
              "      display: none;\n",
              "      fill: #1967D2;\n",
              "      height: 32px;\n",
              "      padding: 0 0 0 0;\n",
              "      width: 32px;\n",
              "    }\n",
              "\n",
              "    .colab-df-convert:hover {\n",
              "      background-color: #E2EBFA;\n",
              "      box-shadow: 0px 1px 2px rgba(60, 64, 67, 0.3), 0px 1px 3px 1px rgba(60, 64, 67, 0.15);\n",
              "      fill: #174EA6;\n",
              "    }\n",
              "\n",
              "    [theme=dark] .colab-df-convert {\n",
              "      background-color: #3B4455;\n",
              "      fill: #D2E3FC;\n",
              "    }\n",
              "\n",
              "    [theme=dark] .colab-df-convert:hover {\n",
              "      background-color: #434B5C;\n",
              "      box-shadow: 0px 1px 3px 1px rgba(0, 0, 0, 0.15);\n",
              "      filter: drop-shadow(0px 1px 2px rgba(0, 0, 0, 0.3));\n",
              "      fill: #FFFFFF;\n",
              "    }\n",
              "  </style>\n",
              "\n",
              "      <script>\n",
              "        const buttonEl =\n",
              "          document.querySelector('#df-a542574d-4825-4e1f-969c-93b873e3a997 button.colab-df-convert');\n",
              "        buttonEl.style.display =\n",
              "          google.colab.kernel.accessAllowed ? 'block' : 'none';\n",
              "\n",
              "        async function convertToInteractive(key) {\n",
              "          const element = document.querySelector('#df-a542574d-4825-4e1f-969c-93b873e3a997');\n",
              "          const dataTable =\n",
              "            await google.colab.kernel.invokeFunction('convertToInteractive',\n",
              "                                                     [key], {});\n",
              "          if (!dataTable) return;\n",
              "\n",
              "          const docLinkHtml = 'Like what you see? Visit the ' +\n",
              "            '<a target=\"_blank\" href=https://colab.research.google.com/notebooks/data_table.ipynb>data table notebook</a>'\n",
              "            + ' to learn more about interactive tables.';\n",
              "          element.innerHTML = '';\n",
              "          dataTable['output_type'] = 'display_data';\n",
              "          await google.colab.output.renderOutput(dataTable, element);\n",
              "          const docLink = document.createElement('div');\n",
              "          docLink.innerHTML = docLinkHtml;\n",
              "          element.appendChild(docLink);\n",
              "        }\n",
              "      </script>\n",
              "    </div>\n",
              "  </div>\n",
              "  "
            ]
          },
          "metadata": {},
          "execution_count": 2
        }
      ]
    },
    {
      "cell_type": "markdown",
      "source": [
        "#Verileri Ön İşleme\n"
      ],
      "metadata": {
        "id": "YnN-8QozO-or"
      }
    },
    {
      "cell_type": "markdown",
      "source": [
        "Tüm özellikleri karşılaştırılabilir bir düzeye getirmek için verileri ölçeklendirme"
      ],
      "metadata": {
        "id": "E_wrTzxbOAn-"
      }
    },
    {
      "cell_type": "code",
      "source": [
        "scaler = StandardScaler()\n",
        "X_scaled = scaler.fit_transform(X)"
      ],
      "metadata": {
        "id": "uYSC6kgzfaFO"
      },
      "execution_count": 3,
      "outputs": []
    },
    {
      "cell_type": "markdown",
      "source": [
        "Verileri normalleştirme, böylece veriler\n",
        "yaklaşık olarak bir Gauss dağılımını takip eder\n"
      ],
      "metadata": {
        "id": "7fIhc9f5OUqM"
      }
    },
    {
      "cell_type": "code",
      "source": [
        "X_normalized = normalize(X_scaled)"
      ],
      "metadata": {
        "id": "-8PVQU4ggsuV"
      },
      "execution_count": 4,
      "outputs": []
    },
    {
      "cell_type": "markdown",
      "source": [
        "Numpy dizisini bir pandas DataFrame'e dönüştürme"
      ],
      "metadata": {
        "id": "P7jQd_yvOe-x"
      }
    },
    {
      "cell_type": "code",
      "source": [
        "X_normalized = pd.DataFrame(X_normalized)"
      ],
      "metadata": {
        "id": "ILdFzxMshBkI"
      },
      "execution_count": 5,
      "outputs": []
    },
    {
      "cell_type": "markdown",
      "source": [
        "Sütunları yeniden adlandırma"
      ],
      "metadata": {
        "id": "3AoEKuJ2Oum1"
      }
    },
    {
      "cell_type": "code",
      "source": [
        "X_normalized.columns = X.columns\n",
        "  \n",
        "X_normalized.head()"
      ],
      "metadata": {
        "colab": {
          "base_uri": "https://localhost:8080/",
          "height": 206
        },
        "id": "DDQQH7-XO2Mt",
        "outputId": "15baa377-7729-45eb-ca03-b7df565a8683"
      },
      "execution_count": 6,
      "outputs": [
        {
          "output_type": "execute_result",
          "data": {
            "text/plain": [
              "   SepalLengthCm  SepalWidthCm  PetalLengthCm  PetalWidthCm\n",
              "0      -0.387617      0.444156      -0.577230     -0.565052\n",
              "1      -0.519284     -0.056769      -0.609353     -0.596498\n",
              "2      -0.579648      0.141360      -0.584998     -0.549365\n",
              "3      -0.633543      0.044764      -0.540137     -0.552152\n",
              "4      -0.411600      0.508921      -0.540264     -0.528866"
            ],
            "text/html": [
              "\n",
              "  <div id=\"df-602481ee-aef2-4bb5-8369-f0860aa2523b\">\n",
              "    <div class=\"colab-df-container\">\n",
              "      <div>\n",
              "<style scoped>\n",
              "    .dataframe tbody tr th:only-of-type {\n",
              "        vertical-align: middle;\n",
              "    }\n",
              "\n",
              "    .dataframe tbody tr th {\n",
              "        vertical-align: top;\n",
              "    }\n",
              "\n",
              "    .dataframe thead th {\n",
              "        text-align: right;\n",
              "    }\n",
              "</style>\n",
              "<table border=\"1\" class=\"dataframe\">\n",
              "  <thead>\n",
              "    <tr style=\"text-align: right;\">\n",
              "      <th></th>\n",
              "      <th>SepalLengthCm</th>\n",
              "      <th>SepalWidthCm</th>\n",
              "      <th>PetalLengthCm</th>\n",
              "      <th>PetalWidthCm</th>\n",
              "    </tr>\n",
              "  </thead>\n",
              "  <tbody>\n",
              "    <tr>\n",
              "      <th>0</th>\n",
              "      <td>-0.387617</td>\n",
              "      <td>0.444156</td>\n",
              "      <td>-0.577230</td>\n",
              "      <td>-0.565052</td>\n",
              "    </tr>\n",
              "    <tr>\n",
              "      <th>1</th>\n",
              "      <td>-0.519284</td>\n",
              "      <td>-0.056769</td>\n",
              "      <td>-0.609353</td>\n",
              "      <td>-0.596498</td>\n",
              "    </tr>\n",
              "    <tr>\n",
              "      <th>2</th>\n",
              "      <td>-0.579648</td>\n",
              "      <td>0.141360</td>\n",
              "      <td>-0.584998</td>\n",
              "      <td>-0.549365</td>\n",
              "    </tr>\n",
              "    <tr>\n",
              "      <th>3</th>\n",
              "      <td>-0.633543</td>\n",
              "      <td>0.044764</td>\n",
              "      <td>-0.540137</td>\n",
              "      <td>-0.552152</td>\n",
              "    </tr>\n",
              "    <tr>\n",
              "      <th>4</th>\n",
              "      <td>-0.411600</td>\n",
              "      <td>0.508921</td>\n",
              "      <td>-0.540264</td>\n",
              "      <td>-0.528866</td>\n",
              "    </tr>\n",
              "  </tbody>\n",
              "</table>\n",
              "</div>\n",
              "      <button class=\"colab-df-convert\" onclick=\"convertToInteractive('df-602481ee-aef2-4bb5-8369-f0860aa2523b')\"\n",
              "              title=\"Convert this dataframe to an interactive table.\"\n",
              "              style=\"display:none;\">\n",
              "        \n",
              "  <svg xmlns=\"http://www.w3.org/2000/svg\" height=\"24px\"viewBox=\"0 0 24 24\"\n",
              "       width=\"24px\">\n",
              "    <path d=\"M0 0h24v24H0V0z\" fill=\"none\"/>\n",
              "    <path d=\"M18.56 5.44l.94 2.06.94-2.06 2.06-.94-2.06-.94-.94-2.06-.94 2.06-2.06.94zm-11 1L8.5 8.5l.94-2.06 2.06-.94-2.06-.94L8.5 2.5l-.94 2.06-2.06.94zm10 10l.94 2.06.94-2.06 2.06-.94-2.06-.94-.94-2.06-.94 2.06-2.06.94z\"/><path d=\"M17.41 7.96l-1.37-1.37c-.4-.4-.92-.59-1.43-.59-.52 0-1.04.2-1.43.59L10.3 9.45l-7.72 7.72c-.78.78-.78 2.05 0 2.83L4 21.41c.39.39.9.59 1.41.59.51 0 1.02-.2 1.41-.59l7.78-7.78 2.81-2.81c.8-.78.8-2.07 0-2.86zM5.41 20L4 18.59l7.72-7.72 1.47 1.35L5.41 20z\"/>\n",
              "  </svg>\n",
              "      </button>\n",
              "      \n",
              "  <style>\n",
              "    .colab-df-container {\n",
              "      display:flex;\n",
              "      flex-wrap:wrap;\n",
              "      gap: 12px;\n",
              "    }\n",
              "\n",
              "    .colab-df-convert {\n",
              "      background-color: #E8F0FE;\n",
              "      border: none;\n",
              "      border-radius: 50%;\n",
              "      cursor: pointer;\n",
              "      display: none;\n",
              "      fill: #1967D2;\n",
              "      height: 32px;\n",
              "      padding: 0 0 0 0;\n",
              "      width: 32px;\n",
              "    }\n",
              "\n",
              "    .colab-df-convert:hover {\n",
              "      background-color: #E2EBFA;\n",
              "      box-shadow: 0px 1px 2px rgba(60, 64, 67, 0.3), 0px 1px 3px 1px rgba(60, 64, 67, 0.15);\n",
              "      fill: #174EA6;\n",
              "    }\n",
              "\n",
              "    [theme=dark] .colab-df-convert {\n",
              "      background-color: #3B4455;\n",
              "      fill: #D2E3FC;\n",
              "    }\n",
              "\n",
              "    [theme=dark] .colab-df-convert:hover {\n",
              "      background-color: #434B5C;\n",
              "      box-shadow: 0px 1px 3px 1px rgba(0, 0, 0, 0.15);\n",
              "      filter: drop-shadow(0px 1px 2px rgba(0, 0, 0, 0.3));\n",
              "      fill: #FFFFFF;\n",
              "    }\n",
              "  </style>\n",
              "\n",
              "      <script>\n",
              "        const buttonEl =\n",
              "          document.querySelector('#df-602481ee-aef2-4bb5-8369-f0860aa2523b button.colab-df-convert');\n",
              "        buttonEl.style.display =\n",
              "          google.colab.kernel.accessAllowed ? 'block' : 'none';\n",
              "\n",
              "        async function convertToInteractive(key) {\n",
              "          const element = document.querySelector('#df-602481ee-aef2-4bb5-8369-f0860aa2523b');\n",
              "          const dataTable =\n",
              "            await google.colab.kernel.invokeFunction('convertToInteractive',\n",
              "                                                     [key], {});\n",
              "          if (!dataTable) return;\n",
              "\n",
              "          const docLinkHtml = 'Like what you see? Visit the ' +\n",
              "            '<a target=\"_blank\" href=https://colab.research.google.com/notebooks/data_table.ipynb>data table notebook</a>'\n",
              "            + ' to learn more about interactive tables.';\n",
              "          element.innerHTML = '';\n",
              "          dataTable['output_type'] = 'display_data';\n",
              "          await google.colab.output.renderOutput(dataTable, element);\n",
              "          const docLink = document.createElement('div');\n",
              "          docLink.innerHTML = docLinkHtml;\n",
              "          element.appendChild(docLink);\n",
              "        }\n",
              "      </script>\n",
              "    </div>\n",
              "  </div>\n",
              "  "
            ]
          },
          "metadata": {},
          "execution_count": 6
        }
      ]
    },
    {
      "cell_type": "markdown",
      "source": [
        "#Kümeleme Modeli Oluşturma"
      ],
      "metadata": {
        "id": "qeru7jHTPUUn"
      }
    },
    {
      "cell_type": "markdown",
      "source": [
        "OPTİK Kümeleme modelini oluşturma"
      ],
      "metadata": {
        "id": "CAg--crGPc8w"
      }
    },
    {
      "cell_type": "code",
      "source": [
        "optics_model = OPTICS(min_samples = 10, xi = 0.05, min_cluster_size = 0.05)\n"
      ],
      "metadata": {
        "id": "UcTBHQSmOmBC"
      },
      "execution_count": 7,
      "outputs": []
    },
    {
      "cell_type": "markdown",
      "source": [
        "Modeli eğitmek\n"
      ],
      "metadata": {
        "id": "6TjxuWCYPnJu"
      }
    },
    {
      "cell_type": "code",
      "source": [
        "optics_model.fit(X_normalized)"
      ],
      "metadata": {
        "colab": {
          "base_uri": "https://localhost:8080/"
        },
        "id": "y5zOjdOaPhhn",
        "outputId": "67b9bf3e-36f9-4c99-9756-23b5e07ba0f8"
      },
      "execution_count": 8,
      "outputs": [
        {
          "output_type": "execute_result",
          "data": {
            "text/plain": [
              "OPTICS(min_cluster_size=0.05, min_samples=10)"
            ]
          },
          "metadata": {},
          "execution_count": 8
        }
      ]
    },
    {
      "cell_type": "markdown",
      "source": [
        "#Eğitimin sonuçlarının saklanması"
      ],
      "metadata": {
        "id": "x5bloPkkPzJa"
      }
    },
    {
      "cell_type": "markdown",
      "source": [
        "Etiketlerin eps = 0.5 ile DBSCAN tekniğine göre üretilmesi"
      ],
      "metadata": {
        "id": "XxsD3z2SP9l6"
      }
    },
    {
      "cell_type": "code",
      "source": [
        "labels1 = cluster_optics_dbscan(reachability = optics_model.reachability_,\n",
        "                                   core_distances = optics_model.core_distances_,\n",
        "                                   ordering = optics_model.ordering_, eps = 0.5)"
      ],
      "metadata": {
        "id": "BgysmIMwPrnF"
      },
      "execution_count": 9,
      "outputs": []
    },
    {
      "cell_type": "markdown",
      "source": [
        "Etiketleri eps = 2.0 ile DBSCAN tekniğine göre üretmek"
      ],
      "metadata": {
        "id": "kq15E8xmQHU7"
      }
    },
    {
      "cell_type": "code",
      "source": [
        "labels2 = cluster_optics_dbscan(reachability = optics_model.reachability_,\n",
        "                                   core_distances = optics_model.core_distances_,\n",
        "                                   ordering = optics_model.ordering_, eps = 2)"
      ],
      "metadata": {
        "id": "xQE6y74MQCCe"
      },
      "execution_count": 10,
      "outputs": []
    },
    {
      "cell_type": "markdown",
      "source": [
        "Belirtilen aralığa kadar eşit boşluklarda sayılarla bir numpy dizisi oluşturma"
      ],
      "metadata": {
        "id": "wE30U_R3RG2L"
      }
    },
    {
      "cell_type": "code",
      "source": [
        "space = np.arange(len(X_normalized))"
      ],
      "metadata": {
        "id": "aYgubPlBQLdh"
      },
      "execution_count": 11,
      "outputs": []
    },
    {
      "cell_type": "markdown",
      "source": [
        "Her noktanın ulaşılabilirlik mesafesinin saklanması"
      ],
      "metadata": {
        "id": "74AnxOo3RrYN"
      }
    },
    {
      "cell_type": "code",
      "source": [
        "reachability = optics_model.reachability_[optics_model.ordering_]\n"
      ],
      "metadata": {
        "id": "JURvhq7QROY3"
      },
      "execution_count": 12,
      "outputs": []
    },
    {
      "cell_type": "markdown",
      "source": [
        "Her noktanın küme label lerinin saklanması"
      ],
      "metadata": {
        "id": "VQC7emLeTwe-"
      }
    },
    {
      "cell_type": "code",
      "source": [
        "labels = optics_model.labels_[optics_model.ordering_]\n",
        "  \n",
        "print(labels)"
      ],
      "metadata": {
        "colab": {
          "base_uri": "https://localhost:8080/"
        },
        "id": "XLkONGbFTqrb",
        "outputId": "78259f06-7576-4b2b-98c3-58c374b2bacb"
      },
      "execution_count": 13,
      "outputs": [
        {
          "output_type": "stream",
          "name": "stdout",
          "text": [
            "[ 0  0  0  0  0  0  0  0  0  0  0  0  0  0  0  0  0  0 -1 -1 -1 -1 -1 -1\n",
            " -1 -1 -1 -1 -1  1  1  1  1  1  1  1  1  1  1  1  1  1  1  1  1 -1 -1 -1\n",
            " -1 -1 -1 -1  2  2  2  2  2  2  2  2  2  2  2  2  2  2  2  2  2  2  2  2\n",
            "  2 -1 -1 -1 -1 -1 -1 -1 -1 -1 -1 -1 -1 -1 -1 -1 -1  3  3  3  3  3  3  3\n",
            "  3  3  3  3  3  3  3  3 -1 -1 -1 -1 -1 -1 -1 -1 -1 -1 -1 -1 -1 -1 -1 -1\n",
            " -1 -1 -1 -1 -1 -1 -1 -1 -1 -1 -1 -1 -1 -1 -1 -1 -1 -1 -1 -1 -1 -1 -1 -1\n",
            " -1 -1 -1 -1 -1 -1]\n"
          ]
        }
      ]
    },
    {
      "cell_type": "markdown",
      "source": [
        "#Sonuçları görselleştirme\n"
      ],
      "metadata": {
        "id": "W-sen1ceUCOv"
      }
    },
    {
      "cell_type": "code",
      "source": [
        "#Görselleştirme framework tanımlanması\n",
        "plt.figure(figsize =(10, 7))\n",
        "G = gridspec.GridSpec(2, 3)\n",
        "\n",
        "ax1 = plt.subplot(G[0, :])\n",
        "#Ulaşılabilirlik-Mesafe Grafiğinin Çizilmesi\n",
        "colors = ['c.', 'b.', 'r.', 'y.', 'g.']\n",
        "for Class, colour in zip(range(0, 5), colors):\n",
        "    Xk = space[labels == Class]\n",
        "    Rk = reachability[labels == Class]\n",
        "    ax1.plot(Xk, Rk, colour, alpha = 0.3)\n",
        "ax1.plot(space[labels == -1], reachability[labels == -1], 'k.', alpha = 0.3)\n",
        "ax1.plot(space, np.full_like(space, 2., dtype = float), 'k-', alpha = 0.5)\n",
        "ax1.plot(space, np.full_like(space, 0.5, dtype = float), 'k-.', alpha = 0.5)\n",
        "ax1.set_ylabel('Reachability Distance')\n",
        "ax1.set_title('Reachability Plot')"
      ],
      "metadata": {
        "id": "7sZD9_Md9485",
        "outputId": "ec1ebfa7-7c54-43ef-9a88-7d5aae0858ee",
        "colab": {
          "base_uri": "https://localhost:8080/",
          "height": 254
        }
      },
      "execution_count": 18,
      "outputs": [
        {
          "output_type": "execute_result",
          "data": {
            "text/plain": [
              "Text(0.5, 1.0, 'Reachability Plot')"
            ]
          },
          "metadata": {},
          "execution_count": 18
        },
        {
          "output_type": "display_data",
          "data": {
            "text/plain": [
              "<Figure size 720x504 with 1 Axes>"
            ],
            "image/png": "[encoded data removed]"
          },
          "metadata": {
            "needs_background": "light"
          }
        }
      ]
    },
    {
      "cell_type": "code",
      "source": [
        "#Görselleştirme framework tanımlanması\n",
        "plt.figure(figsize =(10, 7))\n",
        "G = gridspec.GridSpec(2, 3)\n",
        "\n",
        "ax2 = plt.subplot(G[1, 0])\n",
        "ax3 = plt.subplot(G[1, 1])\n",
        "ax4 = plt.subplot(G[1, 2])\n",
        "\n",
        "\n",
        "\n",
        "# OPTİK Kümelemesini Çizme\n",
        "colors = ['c.', 'b.', 'r.', 'y.', 'g.']\n",
        "for Class, colour in zip(range(0, 5), colors):\n",
        "    Xk = X_normalized[optics_model.labels_ == Class]\n",
        "    ax2.plot(Xk.iloc[:, 0], Xk.iloc[:, 1], colour, alpha = 0.3)\n",
        "      \n",
        "ax2.plot(X_normalized.iloc[optics_model.labels_ == -1, 0],\n",
        "        X_normalized.iloc[optics_model.labels_ == -1, 1],\n",
        "       'k+', alpha = 0.1)\n",
        "ax2.set_title('OPTICS Clustering')\n",
        "\n",
        "# DBSCAN Kümelemesini eps = 0,5 ile çizme\n",
        "\n",
        "colors = ['c', 'b', 'r', 'y', 'g', 'greenyellow']\n",
        "for Class, colour in zip(range(0, 6), colors):\n",
        "    Xk = X_normalized[labels1 == Class]\n",
        "    ax3.plot(Xk.iloc[:, 0], Xk.iloc[:, 1], colour, alpha = 0.3, marker ='.')\n",
        "        \n",
        "ax3.plot(X_normalized.iloc[labels1 == -1, 0],\n",
        "        X_normalized.iloc[labels1 == -1, 1],\n",
        "       'k+', alpha = 0.1)\n",
        "ax3.set_title('DBSCAN clustering with eps = 0.5')\n",
        "\n",
        "# DBSCAN Kümelemesini eps = 2.0 ile çizme\n",
        "\n",
        "colors = ['c.', 'y.', 'm.', 'g.']\n",
        "for Class, colour in zip(range(0, 4), colors):\n",
        "    Xk = X_normalized.iloc[labels2 == Class]\n",
        "    ax4.plot(Xk.iloc[:, 0], Xk.iloc[:, 1], colour, alpha = 0.3)\n",
        "          \n",
        "ax4.plot(X_normalized.iloc[labels2 == -1, 0],\n",
        "        X_normalized.iloc[labels2 == -1, 1],\n",
        "       'k+', alpha = 0.1)\n",
        "ax4.set_title('DBSCAN Clustering with eps = 2.0')\n",
        "  \n",
        "  \n",
        "plt.tight_layout()\n",
        "plt.show()\n"
      ],
      "metadata": {
        "colab": {
          "base_uri": "https://localhost:8080/",
          "height": 283
        },
        "id": "WhjDLFEXT5le",
        "outputId": "5dd5428f-231c-4927-b465-55f44b654940"
      },
      "execution_count": 21,
      "outputs": [
        {
          "output_type": "display_data",
          "data": {
            "text/plain": [
              "<Figure size 720x504 with 3 Axes>"
            ],
            "image/png": "[encoded data removed]"
          },
          "metadata": {
            "needs_background": "light"
          }
        }
      ]
    },
    {
      "cell_type": "code",
      "source": [],
      "metadata": {
        "id": "-iTFYKAL-kRi"
      },
      "execution_count": null,
      "outputs": []
    }
  ]
}