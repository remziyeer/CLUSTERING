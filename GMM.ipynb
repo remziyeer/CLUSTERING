{
  "nbformat": 4,
  "nbformat_minor": 0,
  "metadata": {
    "colab": {
      "provenance": [],
      "authorship_tag": "ABX9TyPS4WcLFaiA/TBWHUyXN42x",
      "include_colab_link": true
    },
    "kernelspec": {
      "name": "python3",
      "display_name": "Python 3"
    },
    "language_info": {
      "name": "python"
    }
  },
  "cells": [
    {
      "cell_type": "markdown",
      "metadata": {
        "id": "view-in-github",
        "colab_type": "text"
      },
      "source": [
        "<a href=\"https://colab.research.google.com/github/remziyeer/CLUSTERING/blob/main/GMM.ipynb\" target=\"_parent\"><img src=\"https://colab.research.google.com/assets/colab-badge.svg\" alt=\"Open In Colab\"/></a>"
      ]
    },
    {
      "cell_type": "code",
      "execution_count": 1,
      "metadata": {
        "id": "WpeDQuI3YzWu"
      },
      "outputs": [],
      "source": [
        "import numpy as np\n",
        "import pandas as pd\n",
        "import matplotlib.pyplot as plt\n",
        "from pandas import DataFrame\n",
        "from sklearn import datasets\n",
        "from sklearn.mixture import GaussianMixture"
      ]
    },
    {
      "cell_type": "code",
      "source": [
        "# iris veri setini yükledik\n",
        "iris = datasets.load_iris()\n",
        " \n",
        "# ilk iki sütunu seçtik\n",
        "X = iris.data[:, :2]\n",
        " \n",
        "# onu bir dataframe dönüştürdük\n",
        "d = pd.DataFrame(X)\n",
        " \n",
        "# verileri çizdik\n",
        "plt.scatter(d[0], d[1])"
      ],
      "metadata": {
        "id": "KO0E9NowcqtQ",
        "outputId": "1adb8ac8-c228-45ac-9752-4f9c23f6c272",
        "colab": {
          "base_uri": "https://localhost:8080/",
          "height": 285
        }
      },
      "execution_count": 5,
      "outputs": [
        {
          "output_type": "execute_result",
          "data": {
            "text/plain": [
              "<matplotlib.collections.PathCollection at 0x7f5838e1c7f0>"
            ]
          },
          "metadata": {},
          "execution_count": 5
        },
        {
          "output_type": "display_data",
          "data": {
            "text/plain": [
              "<Figure size 432x288 with 1 Axes>"
            ],
            "image/png": "[encoded data removed]"
          },
          "metadata": {
            "needs_background": "light"
          }
        }
      ]
    },
    {
      "cell_type": "code",
      "source": [
        "gmm = GaussianMixture(n_components = 3)\n",
        "\n",
        "# Veri kümesi için GMM modelini sığdırdık\n",
        "# Veri kümesi şu şekilde ifade edilir:\n",
        "# 3 Gauss Dağılımının karışımı\n",
        "\n",
        "gmm.fit(d)\n",
        "\n",
        "# Her örneğe bir etiket atayın\n",
        "labels = gmm.predict(d)\n",
        "d['labels']= labels\n",
        "d0 = d[d['labels']== 0]\n",
        "d1 = d[d['labels']== 1]\n",
        "d2 = d[d['labels']== 2]\n",
        "\n",
        "# aynı plot da üç küme çizdik\n",
        "plt.scatter(d0[0], d0[1], c ='r')\n",
        "plt.scatter(d1[0], d1[1], c ='yellow')\n",
        "plt.scatter(d2[0], d2[1], c ='g')"
      ],
      "metadata": {
        "colab": {
          "base_uri": "https://localhost:8080/",
          "height": 285
        },
        "id": "a9xgMUUlc5he",
        "outputId": "bbdf28b6-1652-4078-e757-d8269a704f16"
      },
      "execution_count": 3,
      "outputs": [
        {
          "output_type": "execute_result",
          "data": {
            "text/plain": [
              "<matplotlib.collections.PathCollection at 0x7f5838ded4c0>"
            ]
          },
          "metadata": {},
          "execution_count": 3
        },
        {
          "output_type": "display_data",
          "data": {
            "text/plain": [
              "<Figure size 432x288 with 1 Axes>"
            ],
            "image/png": "[encoded data removed]"
          },
          "metadata": {
            "needs_background": "light"
          }
        }
      ]
    },
    {
      "cell_type": "code",
      "source": [
        "# yakınsanmış log-olasılık değerini yazdırdık\n",
        "print(gmm.lower_bound_)"
      ],
      "metadata": {
        "colab": {
          "base_uri": "https://localhost:8080/"
        },
        "id": "o7hK-KYfcuXx",
        "outputId": "59733322-a6b7-4f38-8196-d4c26641282b"
      },
      "execution_count": 4,
      "outputs": [
        {
          "output_type": "stream",
          "name": "stdout",
          "text": [
            "-1.4987505566235162\n"
          ]
        }
      ]
    },
    {
      "cell_type": "code",
      "source": [],
      "metadata": {
        "id": "QHtShFtqcyAe"
      },
      "execution_count": null,
      "outputs": []
    }
  ]
}