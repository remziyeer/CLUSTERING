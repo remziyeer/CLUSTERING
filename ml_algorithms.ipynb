{
  "nbformat": 4,
  "nbformat_minor": 0,
  "metadata": {
    "colab": {
      "provenance": [],
      "authorship_tag": "ABX9TyMTi03GyOyw0SP2IY8q1PS5",
      "include_colab_link": true
    },
    "kernelspec": {
      "name": "python3",
      "display_name": "Python 3"
    },
    "language_info": {
      "name": "python"
    }
  },
  "cells": [
    {
      "cell_type": "markdown",
      "metadata": {
        "id": "view-in-github",
        "colab_type": "text"
      },
      "source": [
        "<a href=\"https://colab.research.google.com/github/remziyeer/XAI/blob/main/ml_algorithms.ipynb\" target=\"_parent\"><img src=\"https://colab.research.google.com/assets/colab-badge.svg\" alt=\"Open In Colab\"/></a>"
      ]
    },
    {
      "cell_type": "code",
      "execution_count": 12,
      "metadata": {
        "id": "a31Nh3Ms8yoD"
      },
      "outputs": [],
      "source": [
        "import pandas as pd\n",
        "import numpy as np\n",
        "from matplotlib.colors import ListedColormap\n",
        "import matplotlib.pyplot as plt\n",
        "from sklearn import datasets\n",
        "from sklearn import metrics\n",
        "from sklearn.model_selection import train_test_split\n",
        "from sklearn.preprocessing import StandardScaler\n",
        "from sklearn.neighbors import KNeighborsClassifier\n",
        "from sklearn.linear_model import LogisticRegression\n",
        "from sklearn.naive_bayes import GaussianNB\n",
        "from sklearn.svm import SVC\n",
        "import xgboost as xgb"
      ]
    },
    {
      "cell_type": "markdown",
      "source": [
        "sklearn ile iris veri kümesini ekle "
      ],
      "metadata": {
        "id": "LavxByP7_JPm"
      }
    },
    {
      "cell_type": "code",
      "source": [
        "iris=datasets.load_iris()"
      ],
      "metadata": {
        "id": "X7HjIydy90_x"
      },
      "execution_count": 21,
      "outputs": []
    },
    {
      "cell_type": "markdown",
      "source": [
        "Taç yaprağın uzunluğunu ve genişliğini kullanıyoruz"
      ],
      "metadata": {
        "id": "840KrvF6AMyc"
      }
    },
    {
      "cell_type": "code",
      "source": [
        "X = iris.data[:,[2,3]]\n",
        "y = iris.target\n",
        "\n",
        "iris_dataframe = pd.DataFrame(X, columns=iris.feature_names[2:])\n",
        "print(iris_dataframe.head())"
      ],
      "metadata": {
        "colab": {
          "base_uri": "https://localhost:8080/"
        },
        "id": "D5WptuXF-3aH",
        "outputId": "1566a010-586a-4def-e532-e43b2c9d5584"
      },
      "execution_count": 19,
      "outputs": [
        {
          "output_type": "stream",
          "name": "stdout",
          "text": [
            "   petal length (cm)  petal width (cm)\n",
            "0                1.4               0.2\n",
            "1                1.4               0.2\n",
            "2                1.3               0.2\n",
            "3                1.5               0.2\n",
            "4                1.4               0.2\n"
          ]
        }
      ]
    },
    {
      "cell_type": "markdown",
      "source": [
        "Eğitim ve Test Veri Kümeleri"
      ],
      "metadata": {
        "id": "LJJ73UZVCLxx"
      }
    },
    {
      "cell_type": "code",
      "source": [
        "X_train, X_test, y_train, y_test = train_test_split(X, y, test_size=0.3,random_state=0)\n",
        "\n",
        "print(\"Eğitim Örneği: {}\".format(X_train.shape[0]))\n",
        "print(\"Test Örneği: {}\".format(X_test.shape[0]))"
      ],
      "metadata": {
        "colab": {
          "base_uri": "https://localhost:8080/"
        },
        "id": "4PpBgxkHAV_L",
        "outputId": "7bb1b8fe-8df4-47be-f38e-75c5ad9d0797"
      },
      "execution_count": 23,
      "outputs": [
        {
          "output_type": "stream",
          "name": "stdout",
          "text": [
            "Eğitim Örneği: 105\n",
            "Test Örneği: 45\n"
          ]
        }
      ]
    },
    {
      "cell_type": "markdown",
      "source": [
        "Şimdi verileri sklearn kullanarak ölçeklendireceğiz."
      ],
      "metadata": {
        "id": "UUT2YIVwCoA-"
      }
    },
    {
      "cell_type": "code",
      "source": [
        "sc = StandardScaler()\n",
        "sc.fit(X_train)\n",
        "\n",
        "X_train_ = sc.transform(X_train)\n",
        "X_test_ = sc.transform(X_test)"
      ],
      "metadata": {
        "id": "NrnInG8jCXFD"
      },
      "execution_count": 24,
      "outputs": []
    },
    {
      "cell_type": "markdown",
      "source": [
        "Sonra özelliklerimizi standartlaştıracağız. \n",
        "\n"
      ],
      "metadata": {
        "id": "yROtgDpeEMEd"
      }
    },
    {
      "cell_type": "code",
      "source": [
        "print(pd.DataFrame(X_train_, columns=iris_dataframe.columns).head())\n"
      ],
      "metadata": {
        "colab": {
          "base_uri": "https://localhost:8080/"
        },
        "id": "0d8BYAfnEUdB",
        "outputId": "16d8aac8-2a32-43de-ba4d-86ff49336006"
      },
      "execution_count": 25,
      "outputs": [
        {
          "output_type": "stream",
          "name": "stdout",
          "text": [
            "   petal length (cm)  petal width (cm)\n",
            "0          -0.182950         -0.293181\n",
            "1           0.930661          0.737246\n",
            "2           1.042022          1.638870\n",
            "3           0.652258          0.350836\n",
            "4           1.097702          0.737246\n"
          ]
        }
      ]
    },
    {
      "cell_type": "markdown",
      "source": [
        "Şimdi matplotlib ile grafik çizimi"
      ],
      "metadata": {
        "id": "PZGUohcaFtGp"
      }
    },
    {
      "cell_type": "code",
      "source": [
        "markers = (\"o\",\"x\",\"s\")\n",
        "colors = (\"purple\",\"red\",\"green\")\n",
        "cmap = ListedColormap(colors[:len(np.unique(y_test))])\n",
        "plt.figure(figsize=(10,8))\n",
        "for idx, cl in enumerate(np.unique(y)):\n",
        "    plt.scatter(x=X[y ==cl, 0],y=X[y==cl,1],c=cmap(idx),marker=markers[idx],label=cl)\n",
        "    plt.legend()\n",
        "plt.show()"
      ],
      "metadata": {
        "colab": {
          "base_uri": "https://localhost:8080/",
          "height": 555
        },
        "id": "6eS8fIf7EpRG",
        "outputId": "e945c1cb-6c08-4c8b-a0d8-8727d29668a6"
      },
      "execution_count": 38,
      "outputs": [
        {
          "output_type": "stream",
          "name": "stderr",
          "text": [
            "WARNING:matplotlib.axes._axes:*c* argument looks like a single numeric RGB or RGBA sequence, which should be avoided as value-mapping will have precedence in case its length matches with *x* & *y*.  Please use the *color* keyword-argument or provide a 2-D array with a single row if you intend to specify the same RGB or RGBA value for all points.\n",
            "WARNING:matplotlib.axes._axes:*c* argument looks like a single numeric RGB or RGBA sequence, which should be avoided as value-mapping will have precedence in case its length matches with *x* & *y*.  Please use the *color* keyword-argument or provide a 2-D array with a single row if you intend to specify the same RGB or RGBA value for all points.\n",
            "WARNING:matplotlib.axes._axes:*c* argument looks like a single numeric RGB or RGBA sequence, which should be avoided as value-mapping will have precedence in case its length matches with *x* & *y*.  Please use the *color* keyword-argument or provide a 2-D array with a single row if you intend to specify the same RGB or RGBA value for all points.\n"
          ]
        },
        {
          "output_type": "display_data",
          "data": {
            "text/plain": [
              "<Figure size 720x576 with 1 Axes>"
            ],
            "image/png": "[encoded data removed]"
          },
          "metadata": {
            "needs_background": "light"
          }
        }
      ]
    },
    {
      "cell_type": "code",
      "source": [
        "def plot_decision_regions(X, y, classifier, test_idx=None, resolution=0.02):\n",
        "    plt.figure(figsize=(10,8))\n",
        "    markers = (\"o\", \"x\", \"s\")\n",
        "    colors = ('purple', 'orange', 'turquoise')\n",
        "    cmap = ListedColormap(colors[:len(np.unique(y))])\n",
        "\n",
        "    x1_min, x1_max = X[:, 0].min() - 1, X[:, 0].max() + 1\n",
        "    x2_min, x2_max = X[:, 1].min() - 1, X[:, 1].max() + 1\n",
        "    xx1, xx2 = np.meshgrid(np.arange(x1_min, x1_max, resolution),\n",
        "                           np.arange(x2_min, x2_max, resolution))\n",
        "    Z = classifier.predict(np.array([xx1.ravel(), xx2.ravel()]).T)\n",
        "    Z = Z.reshape(xx1.shape)\n",
        "    plt.contourf(xx1, xx2, Z, alpha=0.4, cmap=cmap)\n",
        "    plt.xlim(xx1.min(), xx1.max())\n",
        "    plt.ylim(xx2.min(), xx2.max())\n",
        "    \n",
        "    \n",
        "    for idx, cl in enumerate(np.unique(y)):\n",
        "        plt.scatter(x=X[y == cl, 0], y=X[y == cl, 1], alpha=0.8, c=cmap(idx), marker=markers[idx], label=cl)\n",
        "        plt.legend()\n",
        "    plt.show()"
      ],
      "metadata": {
        "id": "_Ae9drF3F1rj"
      },
      "execution_count": 66,
      "outputs": []
    },
    {
      "cell_type": "markdown",
      "source": [
        "K Değerine Karşı Hata Oranı"
      ],
      "metadata": {
        "id": "7ORT9mrQIF1n"
      }
    },
    {
      "cell_type": "code",
      "source": [
        "error_rate = []\n",
        "\n",
        "for i in range(1,10):    \n",
        "    knn = KNeighborsClassifier(n_neighbors=i)\n",
        "    knn.fit(X_train_, y_train)\n",
        "    pred_i = knn.predict(X_test_)\n",
        "    error_rate.append(np.mean(pred_i != y_test))\n",
        "    \n",
        "plt.figure(figsize=(10,8))\n",
        "plt.plot(range(1,10),error_rate,color='brown', linestyle='dashed', marker='o',\n",
        "         markerfacecolor='pink', markersize=15)\n",
        "plt.title('Hata Oranı vs. K Değeri')\n",
        "plt.xlabel('K')\n",
        "plt.ylabel('Hata Oranı')\n",
        "plt.show()\n",
        "plt.close()"
      ],
      "metadata": {
        "colab": {
          "base_uri": "https://localhost:8080/",
          "height": 513
        },
        "id": "v6tpyb21HDLb",
        "outputId": "b3ac7d2b-f8d2-47a8-b818-3c6c5d00a1bb"
      },
      "execution_count": 53,
      "outputs": [
        {
          "output_type": "display_data",
          "data": {
            "text/plain": [
              "<Figure size 720x576 with 1 Axes>"
            ],
            "image/png": "[encoded data removed]"
          },
          "metadata": {
            "needs_background": "light"
          }
        }
      ]
    },
    {
      "cell_type": "markdown",
      "source": [
        "#KNN sınıflandırıcı\n"
      ],
      "metadata": {
        "id": "0SOJHEIyJqwG"
      }
    },
    {
      "cell_type": "code",
      "source": [
        "knn = KNeighborsClassifier(n_neighbors=5, p=2, metric='minkowski')\n",
        "knn.fit(X_train_, y_train)\n",
        "\n",
        "print (\"Train - Doğruluğu :\", metrics.accuracy_score(y_train, knn.predict(X_train_)))\n",
        "print (\"Train - Karışıklık Matrisi :\",metrics.confusion_matrix(y_train, knn.predict(X_train_)))\n",
        "print (\"Train - Sınıflandırma Raporu:\", metrics.classification_report(y_train, knn.predict(X_train_)))\n",
        "print(\"\\n\")\n",
        "print (\"Test - Doğruluğu :\", metrics.accuracy_score(y_test, knn.predict(X_test_)))\n",
        "print (\"Test - Karışıklık Matrisi :\",metrics.confusion_matrix(y_test, knn.predict(X_test_)))\n",
        "print (\"Test - Sınıflandırma Raporu :\", metrics.classification_report(y_test, knn.predict(X_test_)))\n"
      ],
      "metadata": {
        "colab": {
          "base_uri": "https://localhost:8080/"
        },
        "id": "hs1M1gxAIJhG",
        "outputId": "5ef7d86f-d345-4f40-9d7c-eac1bfc7e5a6"
      },
      "execution_count": 69,
      "outputs": [
        {
          "output_type": "stream",
          "name": "stdout",
          "text": [
            "Train - Doğruluğu : 0.9523809523809523\n",
            "Train - Karışıklık Matrisi : [[34  0  0]\n",
            " [ 0 30  2]\n",
            " [ 0  3 36]]\n",
            "Train - Sınıflandırma Raporu:               precision    recall  f1-score   support\n",
            "\n",
            "           0       1.00      1.00      1.00        34\n",
            "           1       0.91      0.94      0.92        32\n",
            "           2       0.95      0.92      0.94        39\n",
            "\n",
            "    accuracy                           0.95       105\n",
            "   macro avg       0.95      0.95      0.95       105\n",
            "weighted avg       0.95      0.95      0.95       105\n",
            "\n",
            "\n",
            "\n",
            "Test - Doğruluğu : 1.0\n",
            "Test - Karışıklık Matrisi : [[16  0  0]\n",
            " [ 0 18  0]\n",
            " [ 0  0 11]]\n",
            "Test - Sınıflandırma Raporu :               precision    recall  f1-score   support\n",
            "\n",
            "           0       1.00      1.00      1.00        16\n",
            "           1       1.00      1.00      1.00        18\n",
            "           2       1.00      1.00      1.00        11\n",
            "\n",
            "    accuracy                           1.00        45\n",
            "   macro avg       1.00      1.00      1.00        45\n",
            "weighted avg       1.00      1.00      1.00        45\n",
            "\n"
          ]
        }
      ]
    },
    {
      "cell_type": "code",
      "source": [
        "plot_decision_regions(X_test_, y_test, knn)"
      ],
      "metadata": {
        "colab": {
          "base_uri": "https://localhost:8080/",
          "height": 555
        },
        "id": "VLidWeV6JyYl",
        "outputId": "ca7904cc-f9c2-415a-99df-7fd0ffbb3367"
      },
      "execution_count": 67,
      "outputs": [
        {
          "output_type": "stream",
          "name": "stderr",
          "text": [
            "WARNING:matplotlib.axes._axes:*c* argument looks like a single numeric RGB or RGBA sequence, which should be avoided as value-mapping will have precedence in case its length matches with *x* & *y*.  Please use the *color* keyword-argument or provide a 2-D array with a single row if you intend to specify the same RGB or RGBA value for all points.\n",
            "WARNING:matplotlib.axes._axes:*c* argument looks like a single numeric RGB or RGBA sequence, which should be avoided as value-mapping will have precedence in case its length matches with *x* & *y*.  Please use the *color* keyword-argument or provide a 2-D array with a single row if you intend to specify the same RGB or RGBA value for all points.\n",
            "WARNING:matplotlib.axes._axes:*c* argument looks like a single numeric RGB or RGBA sequence, which should be avoided as value-mapping will have precedence in case its length matches with *x* & *y*.  Please use the *color* keyword-argument or provide a 2-D array with a single row if you intend to specify the same RGB or RGBA value for all points.\n"
          ]
        },
        {
          "output_type": "display_data",
          "data": {
            "text/plain": [
              "<Figure size 720x576 with 1 Axes>"
            ],
            "image/png": "[encoded data removed]"
          },
          "metadata": {
            "needs_background": "light"
          }
        }
      ]
    },
    {
      "cell_type": "markdown",
      "source": [
        "Logistic Regression"
      ],
      "metadata": {
        "id": "_hDVvjEQMNJM"
      }
    },
    {
      "cell_type": "code",
      "source": [
        "LReg = LogisticRegression()\n",
        "LReg.fit(X_train_, y_train)"
      ],
      "metadata": {
        "colab": {
          "base_uri": "https://localhost:8080/"
        },
        "id": "4eiO1pMNLZyc",
        "outputId": "f9b68ac2-6e3d-4260-ca5e-c9a40c30439f"
      },
      "execution_count": 68,
      "outputs": [
        {
          "output_type": "execute_result",
          "data": {
            "text/plain": [
              "LogisticRegression()"
            ]
          },
          "metadata": {},
          "execution_count": 68
        }
      ]
    },
    {
      "cell_type": "markdown",
      "source": [
        "#Değerlendirme matrisleri oluşturma"
      ],
      "metadata": {
        "id": "9_oQFg5NMo3t"
      }
    },
    {
      "cell_type": "code",
      "source": [
        "print (\"Train - Doğruluğu :\", metrics.accuracy_score(y_train, LReg.predict(X_train_)))\n",
        "print (\"Train - Karışıklık Matrisi :\",metrics.confusion_matrix(y_train, LReg.predict(X_train_)))\n",
        "print (\"Train - Sınıflandırma Raporu :\", metrics.classification_report(y_train, LReg.predict(X_train_)))\n",
        "print(\"\\n\")\n",
        "print (\"Test - Doğruluğu :\", metrics.accuracy_score(y_test, LReg.predict(X_test_)))\n",
        "print (\"Test - Karışıklık Matrisi :\",metrics.confusion_matrix(y_test, LReg.predict(X_test_)))\n",
        "print (\"Test - Sınıflandırma Raporu :\", metrics.classification_report(y_test, LReg.predict(X_test_)))"
      ],
      "metadata": {
        "colab": {
          "base_uri": "https://localhost:8080/"
        },
        "id": "LKiyUHYrMhdP",
        "outputId": "a4502dcd-285d-4d70-f481-c864542fa846"
      },
      "execution_count": 72,
      "outputs": [
        {
          "output_type": "stream",
          "name": "stdout",
          "text": [
            "Train - Doğruluğu : 0.9523809523809523\n",
            "Train - Karışıklık Matrisi : [[34  0  0]\n",
            " [ 0 30  2]\n",
            " [ 0  3 36]]\n",
            "Train - Sınıflandırma Raporu :               precision    recall  f1-score   support\n",
            "\n",
            "           0       1.00      1.00      1.00        34\n",
            "           1       0.91      0.94      0.92        32\n",
            "           2       0.95      0.92      0.94        39\n",
            "\n",
            "    accuracy                           0.95       105\n",
            "   macro avg       0.95      0.95      0.95       105\n",
            "weighted avg       0.95      0.95      0.95       105\n",
            "\n",
            "\n",
            "\n",
            "Test - Doğruluğu : 0.9555555555555556\n",
            "Test - Karışıklık Matrisi : [[16  0  0]\n",
            " [ 0 17  1]\n",
            " [ 0  1 10]]\n",
            "Test - Sınıflandırma Raporu :               precision    recall  f1-score   support\n",
            "\n",
            "           0       1.00      1.00      1.00        16\n",
            "           1       0.94      0.94      0.94        18\n",
            "           2       0.91      0.91      0.91        11\n",
            "\n",
            "    accuracy                           0.96        45\n",
            "   macro avg       0.95      0.95      0.95        45\n",
            "weighted avg       0.96      0.96      0.96        45\n",
            "\n"
          ]
        }
      ]
    },
    {
      "cell_type": "code",
      "source": [
        "plot_decision_regions(X_test_, y_test, LReg)\n"
      ],
      "metadata": {
        "colab": {
          "base_uri": "https://localhost:8080/",
          "height": 555
        },
        "id": "Fuxj-rA-P-0H",
        "outputId": "07f04b0c-97d8-4540-92e6-2c61835546cc"
      },
      "execution_count": 73,
      "outputs": [
        {
          "output_type": "stream",
          "name": "stderr",
          "text": [
            "WARNING:matplotlib.axes._axes:*c* argument looks like a single numeric RGB or RGBA sequence, which should be avoided as value-mapping will have precedence in case its length matches with *x* & *y*.  Please use the *color* keyword-argument or provide a 2-D array with a single row if you intend to specify the same RGB or RGBA value for all points.\n",
            "WARNING:matplotlib.axes._axes:*c* argument looks like a single numeric RGB or RGBA sequence, which should be avoided as value-mapping will have precedence in case its length matches with *x* & *y*.  Please use the *color* keyword-argument or provide a 2-D array with a single row if you intend to specify the same RGB or RGBA value for all points.\n",
            "WARNING:matplotlib.axes._axes:*c* argument looks like a single numeric RGB or RGBA sequence, which should be avoided as value-mapping will have precedence in case its length matches with *x* & *y*.  Please use the *color* keyword-argument or provide a 2-D array with a single row if you intend to specify the same RGB or RGBA value for all points.\n"
          ]
        },
        {
          "output_type": "display_data",
          "data": {
            "text/plain": [
              "<Figure size 720x576 with 1 Axes>"
            ],
            "image/png": "[encoded data removed]"
          },
          "metadata": {
            "needs_background": "light"
          }
        }
      ]
    },
    {
      "cell_type": "markdown",
      "source": [
        "#Naive Bayes"
      ],
      "metadata": {
        "id": "Dyc6UJq9SCek"
      }
    },
    {
      "cell_type": "code",
      "source": [
        "NB = GaussianNB()\n",
        "NB.fit(X_train_, y_train)\n",
        "\n",
        "print (\"Train - Doğruluğu :\", metrics.accuracy_score(y_train, NB.predict(X_train_)))\n",
        "print (\"Train - Karışıklık Matrisi :\",metrics.confusion_matrix(y_train, NB.predict(X_train_)))\n",
        "print (\"Train - Sınıflandırma Raporu :\", metrics.classification_report(y_train, NB.predict(X_train_)))\n",
        "print(\"\\n\")\n",
        "print (\"Test - Doğruluğu :\", metrics.accuracy_score(y_test, NB.predict(X_test_)))\n",
        "print (\"Test - Karışıklık Matrisi :\",metrics.confusion_matrix(y_test, NB.predict(X_test_)))\n",
        "print (\"Test - Sınıflandırma raporu :\", metrics.classification_report(y_test, NB.predict(X_test_)))"
      ],
      "metadata": {
        "colab": {
          "base_uri": "https://localhost:8080/"
        },
        "id": "RlJpEPXcQiC7",
        "outputId": "8d1d002b-303f-4a1a-9f88-0834626e116a"
      },
      "execution_count": 75,
      "outputs": [
        {
          "output_type": "stream",
          "name": "stdout",
          "text": [
            "Train - Doğruluğu : 0.9523809523809523\n",
            "Train - Karışıklık Matrisi : [[34  0  0]\n",
            " [ 0 30  2]\n",
            " [ 0  3 36]]\n",
            "Train - Sınıflandırma Raporu :               precision    recall  f1-score   support\n",
            "\n",
            "           0       1.00      1.00      1.00        34\n",
            "           1       0.91      0.94      0.92        32\n",
            "           2       0.95      0.92      0.94        39\n",
            "\n",
            "    accuracy                           0.95       105\n",
            "   macro avg       0.95      0.95      0.95       105\n",
            "weighted avg       0.95      0.95      0.95       105\n",
            "\n",
            "\n",
            "\n",
            "Test - Doğruluğu : 0.9777777777777777\n",
            "Test - Karışıklık Matrisi : [[16  0  0]\n",
            " [ 0 17  1]\n",
            " [ 0  0 11]]\n",
            "Test - Sınıflandırma raporu :               precision    recall  f1-score   support\n",
            "\n",
            "           0       1.00      1.00      1.00        16\n",
            "           1       1.00      0.94      0.97        18\n",
            "           2       0.92      1.00      0.96        11\n",
            "\n",
            "    accuracy                           0.98        45\n",
            "   macro avg       0.97      0.98      0.98        45\n",
            "weighted avg       0.98      0.98      0.98        45\n",
            "\n"
          ]
        }
      ]
    },
    {
      "cell_type": "code",
      "source": [
        "plot_decision_regions(X_test_, y_test, NB)\n"
      ],
      "metadata": {
        "colab": {
          "base_uri": "https://localhost:8080/",
          "height": 555
        },
        "id": "3hEDZ0JDSJKB",
        "outputId": "22baede0-72c6-47fe-aa22-44a53a8faca9"
      },
      "execution_count": 76,
      "outputs": [
        {
          "output_type": "stream",
          "name": "stderr",
          "text": [
            "WARNING:matplotlib.axes._axes:*c* argument looks like a single numeric RGB or RGBA sequence, which should be avoided as value-mapping will have precedence in case its length matches with *x* & *y*.  Please use the *color* keyword-argument or provide a 2-D array with a single row if you intend to specify the same RGB or RGBA value for all points.\n",
            "WARNING:matplotlib.axes._axes:*c* argument looks like a single numeric RGB or RGBA sequence, which should be avoided as value-mapping will have precedence in case its length matches with *x* & *y*.  Please use the *color* keyword-argument or provide a 2-D array with a single row if you intend to specify the same RGB or RGBA value for all points.\n",
            "WARNING:matplotlib.axes._axes:*c* argument looks like a single numeric RGB or RGBA sequence, which should be avoided as value-mapping will have precedence in case its length matches with *x* & *y*.  Please use the *color* keyword-argument or provide a 2-D array with a single row if you intend to specify the same RGB or RGBA value for all points.\n"
          ]
        },
        {
          "output_type": "display_data",
          "data": {
            "text/plain": [
              "<Figure size 720x576 with 1 Axes>"
            ],
            "image/png": "[encoded data removed]"
          },
          "metadata": {
            "needs_background": "light"
          }
        }
      ]
    },
    {
      "cell_type": "markdown",
      "source": [
        "# Linear SVM\n"
      ],
      "metadata": {
        "id": "G6CDZ05tSix6"
      }
    },
    {
      "cell_type": "code",
      "source": [
        "svm = SVC(kernel=\"linear\", random_state=0,gamma=0.1,C=1.0)\n",
        "svm.fit(X_train_, y_train)\n",
        "\n",
        "print (\"Train - Doğruluğu :\", metrics.accuracy_score(y_train, svm.predict(X_train_)))\n",
        "print (\"Train - Karışıklık Matrisi :\",metrics.confusion_matrix(y_train, svm.predict(X_train_)))\n",
        "print (\"Train - Sınıflandırma Raporu :\", metrics.classification_report(y_train, svm.predict(X_train_)))\n",
        "print(\"\\n\")\n",
        "print (\"Test - Doğruluğu :\", metrics.accuracy_score(y_test, svm.predict(X_test_)))\n",
        "print (\"Test - Karışıklık Matrisi :\",metrics.confusion_matrix(y_test, svm.predict(X_test_)))\n",
        "print (\"Test - Sınıflandırma Raporu :\", metrics.classification_report(y_test, svm.predict(X_test_)))"
      ],
      "metadata": {
        "colab": {
          "base_uri": "https://localhost:8080/"
        },
        "id": "IS66cZiUSgIK",
        "outputId": "177bc813-a689-4d50-9845-7e13b16e0e82"
      },
      "execution_count": 78,
      "outputs": [
        {
          "output_type": "stream",
          "name": "stdout",
          "text": [
            "Train - Doğruluğu : 0.9523809523809523\n",
            "Train - Karışıklık Matrisi : [[34  0  0]\n",
            " [ 0 30  2]\n",
            " [ 0  3 36]]\n",
            "Train - Sınıflandırma Raporu :               precision    recall  f1-score   support\n",
            "\n",
            "           0       1.00      1.00      1.00        34\n",
            "           1       0.91      0.94      0.92        32\n",
            "           2       0.95      0.92      0.94        39\n",
            "\n",
            "    accuracy                           0.95       105\n",
            "   macro avg       0.95      0.95      0.95       105\n",
            "weighted avg       0.95      0.95      0.95       105\n",
            "\n",
            "\n",
            "\n",
            "Test - Doğruluğu : 0.9777777777777777\n",
            "Test - Karışıklık Matrisi : [[16  0  0]\n",
            " [ 0 17  1]\n",
            " [ 0  0 11]]\n",
            "Test - Sınıflandırma Raporu :               precision    recall  f1-score   support\n",
            "\n",
            "           0       1.00      1.00      1.00        16\n",
            "           1       1.00      0.94      0.97        18\n",
            "           2       0.92      1.00      0.96        11\n",
            "\n",
            "    accuracy                           0.98        45\n",
            "   macro avg       0.97      0.98      0.98        45\n",
            "weighted avg       0.98      0.98      0.98        45\n",
            "\n"
          ]
        }
      ]
    },
    {
      "cell_type": "code",
      "source": [
        "plot_decision_regions(X_test_,y_test,svm)\n"
      ],
      "metadata": {
        "colab": {
          "base_uri": "https://localhost:8080/",
          "height": 555
        },
        "id": "EuDnS0auTIME",
        "outputId": "b405d785-35a5-40c8-84d6-8e0a03fd3d75"
      },
      "execution_count": 79,
      "outputs": [
        {
          "output_type": "stream",
          "name": "stderr",
          "text": [
            "WARNING:matplotlib.axes._axes:*c* argument looks like a single numeric RGB or RGBA sequence, which should be avoided as value-mapping will have precedence in case its length matches with *x* & *y*.  Please use the *color* keyword-argument or provide a 2-D array with a single row if you intend to specify the same RGB or RGBA value for all points.\n",
            "WARNING:matplotlib.axes._axes:*c* argument looks like a single numeric RGB or RGBA sequence, which should be avoided as value-mapping will have precedence in case its length matches with *x* & *y*.  Please use the *color* keyword-argument or provide a 2-D array with a single row if you intend to specify the same RGB or RGBA value for all points.\n",
            "WARNING:matplotlib.axes._axes:*c* argument looks like a single numeric RGB or RGBA sequence, which should be avoided as value-mapping will have precedence in case its length matches with *x* & *y*.  Please use the *color* keyword-argument or provide a 2-D array with a single row if you intend to specify the same RGB or RGBA value for all points.\n"
          ]
        },
        {
          "output_type": "display_data",
          "data": {
            "text/plain": [
              "<Figure size 720x576 with 1 Axes>"
            ],
            "image/png": "[encoded data removed]"
          },
          "metadata": {
            "needs_background": "light"
          }
        }
      ]
    },
    {
      "cell_type": "markdown",
      "source": [
        "# XGBoost classifier\n"
      ],
      "metadata": {
        "id": "6d7KuRQ-TkiA"
      }
    },
    {
      "cell_type": "code",
      "source": [
        "xgb_clf = xgb.XGBClassifier()\n",
        "xgb_clf = xgb_clf.fit(X_train_, y_train)\n",
        "\n",
        "print (\"Train - Doğruluğu :\", metrics.accuracy_score(y_train, xgb_clf.predict(X_train_)))\n",
        "print (\"Train - Karışıklık Matrisi :\",metrics.confusion_matrix(y_train, xgb_clf.predict(X_train_)))\n",
        "print (\"Train - Sınıflandırma Raporu :\", metrics.classification_report(y_train, xgb_clf.predict(X_train_)))\n",
        "print(\"\\n\")\n",
        "print (\"Test - Doğruluğu :\", metrics.accuracy_score(y_test, xgb_clf.predict(X_test_)))\n",
        "print (\"Test - Karışıklık Matrisi :\",metrics.confusion_matrix(y_test, xgb_clf.predict(X_test_)))\n",
        "print (\"Test - Sınıflandırma Raporu :\", metrics.classification_report(y_test, xgb_clf.predict(X_test_)))"
      ],
      "metadata": {
        "colab": {
          "base_uri": "https://localhost:8080/"
        },
        "id": "NPXlmsOZTb7o",
        "outputId": "6f9f06dd-9dd5-4a48-cf17-86b5e0759e7e"
      },
      "execution_count": 82,
      "outputs": [
        {
          "output_type": "stream",
          "name": "stdout",
          "text": [
            "Train - Doğruluğu : 0.9809523809523809\n",
            "Train - Karışıklık Matrisi : [[34  0  0]\n",
            " [ 0 30  2]\n",
            " [ 0  0 39]]\n",
            "Train - Sınıflandırma Raporu :               precision    recall  f1-score   support\n",
            "\n",
            "           0       1.00      1.00      1.00        34\n",
            "           1       1.00      0.94      0.97        32\n",
            "           2       0.95      1.00      0.97        39\n",
            "\n",
            "    accuracy                           0.98       105\n",
            "   macro avg       0.98      0.98      0.98       105\n",
            "weighted avg       0.98      0.98      0.98       105\n",
            "\n",
            "\n",
            "\n",
            "Test - Doğruluğu : 0.9777777777777777\n",
            "Test - Karışıklık Matrisi : [[16  0  0]\n",
            " [ 0 17  1]\n",
            " [ 0  0 11]]\n",
            "Test - Sınıflandırma Raporu :               precision    recall  f1-score   support\n",
            "\n",
            "           0       1.00      1.00      1.00        16\n",
            "           1       1.00      0.94      0.97        18\n",
            "           2       0.92      1.00      0.96        11\n",
            "\n",
            "    accuracy                           0.98        45\n",
            "   macro avg       0.97      0.98      0.98        45\n",
            "weighted avg       0.98      0.98      0.98        45\n",
            "\n"
          ]
        }
      ]
    },
    {
      "cell_type": "code",
      "source": [
        "plot_decision_regions(X_test_, y_test, xgb_clf)"
      ],
      "metadata": {
        "colab": {
          "base_uri": "https://localhost:8080/",
          "height": 555
        },
        "id": "FEOVhxCyTokH",
        "outputId": "22b55935-d136-44dd-b080-66e309181a36"
      },
      "execution_count": 83,
      "outputs": [
        {
          "output_type": "stream",
          "name": "stderr",
          "text": [
            "WARNING:matplotlib.axes._axes:*c* argument looks like a single numeric RGB or RGBA sequence, which should be avoided as value-mapping will have precedence in case its length matches with *x* & *y*.  Please use the *color* keyword-argument or provide a 2-D array with a single row if you intend to specify the same RGB or RGBA value for all points.\n",
            "WARNING:matplotlib.axes._axes:*c* argument looks like a single numeric RGB or RGBA sequence, which should be avoided as value-mapping will have precedence in case its length matches with *x* & *y*.  Please use the *color* keyword-argument or provide a 2-D array with a single row if you intend to specify the same RGB or RGBA value for all points.\n",
            "WARNING:matplotlib.axes._axes:*c* argument looks like a single numeric RGB or RGBA sequence, which should be avoided as value-mapping will have precedence in case its length matches with *x* & *y*.  Please use the *color* keyword-argument or provide a 2-D array with a single row if you intend to specify the same RGB or RGBA value for all points.\n"
          ]
        },
        {
          "output_type": "display_data",
          "data": {
            "text/plain": [
              "<Figure size 720x576 with 1 Axes>"
            ],
            "image/png": "[encoded data removed]"
          },
          "metadata": {
            "needs_background": "light"
          }
        }
      ]
    },
    {
      "cell_type": "code",
      "source": [],
      "metadata": {
        "id": "O69X51IFUAEn"
      },
      "execution_count": null,
      "outputs": []
    }
  ]
}